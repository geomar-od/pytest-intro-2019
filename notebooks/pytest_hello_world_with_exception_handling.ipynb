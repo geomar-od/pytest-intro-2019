{
 "cells": [
  {
   "cell_type": "markdown",
   "metadata": {},
   "source": [
    "# A `pytest` Hello World that ensure error handling\n",
    "\n",
    "This builds on the simple hello world example, but shows how to make sure the correct error message is raised for, e.g., unexpected inputs.\n",
    "\n",
    "We will do so by making sure that our `greet` fuction only accepts strings as input."
   ]
  },
  {
   "cell_type": "markdown",
   "metadata": {},
   "source": [
    "## Create a minimal module\n",
    "\n",
    "We need to create a directory for the module.  Then, we'll use the `%%file` magic of Jupyter to add a file containing a simple function definition."
   ]
  },
  {
   "cell_type": "code",
   "execution_count": 1,
   "metadata": {},
   "outputs": [],
   "source": [
    "!rm -rf hello_world/  # just in case (We want to start over.)\n",
    "!mkdir -p hello_world/"
   ]
  },
  {
   "cell_type": "code",
   "execution_count": 2,
   "metadata": {},
   "outputs": [
    {
     "name": "stdout",
     "output_type": "stream",
     "text": [
      "Writing hello_world/greet_anyone.py\n"
     ]
    }
   ],
   "source": [
    "%%file hello_world/greet_anyone.py\n",
    "def greet(thing):\n",
    "    if type(thing) is not str:\n",
    "        raise TypeError(\"Can only handle strings.\")\n",
    "    return \"Hello \" + str(thing) + \"!\""
   ]
  },
  {
   "cell_type": "markdown",
   "metadata": {},
   "source": [
    "This leaves us with a file `hello_world/greet_anyone.py` that contains:"
   ]
  },
  {
   "cell_type": "code",
   "execution_count": 3,
   "metadata": {},
   "outputs": [
    {
     "name": "stdout",
     "output_type": "stream",
     "text": [
      "def greet(thing):\n",
      "    if type(thing) is not str:\n",
      "        raise TypeError(\"Can only handle strings.\")\n",
      "    return \"Hello \" + str(thing) + \"!\"\n"
     ]
    }
   ],
   "source": [
    "!cat hello_world/greet_anyone.py  # Will print the contents of the file"
   ]
  },
  {
   "cell_type": "markdown",
   "metadata": {},
   "source": [
    "## Add a minimal \"test suite\"\n",
    "\n",
    "We want to test that the greeting starts on `\"Hello\"`, ends on `\"!\"`, and has a space in it.  But we want to do so for a whole range of inputs.\n",
    "\n",
    "This can be done by using the [parametrization feature](https://docs.pytest.org/en/latest/parametrize.html#pytest-mark-parametrize-parametrizing-test-functions) of PyTest."
   ]
  },
  {
   "cell_type": "code",
   "execution_count": 4,
   "metadata": {},
   "outputs": [
    {
     "name": "stdout",
     "output_type": "stream",
     "text": [
      "Writing hello_world/test_greet_anyone.py\n"
     ]
    }
   ],
   "source": [
    "%%file hello_world/test_greet_anyone.py\n",
    "import pytest\n",
    "\n",
    "from greet_anyone import greet\n",
    "\n",
    "@pytest.mark.parametrize(\"a_thing\", [\"Alice\", \"Bob\", \"World\"])\n",
    "def test_starts_on_hello(a_thing):\n",
    "    assert greet(a_thing).startswith(\"Hello\")\n",
    "\n",
    "\n",
    "@pytest.mark.parametrize(\"a_thing\", [\"Alice\", \"Bob\", \"World\"])\n",
    "def test_starts_on_exclamation_mark(a_thing):\n",
    "    assert greet(a_thing).endswith(\"!\")\n",
    "    \n",
    "\n",
    "@pytest.mark.parametrize(\"a_thing\", [\"Alice\", \"Bob\", \"World\"])\n",
    "def test_adds_space(a_thing):\n",
    "    assert \" \" in greet(a_thing)"
   ]
  },
  {
   "cell_type": "code",
   "execution_count": 5,
   "metadata": {},
   "outputs": [
    {
     "name": "stdout",
     "output_type": "stream",
     "text": [
      "Writing hello_world/test_greet_errors.py\n"
     ]
    }
   ],
   "source": [
    "%%file hello_world/test_greet_errors.py\n",
    "import pytest\n",
    "\n",
    "from greet_anyone import greet\n",
    "\n",
    "@pytest.mark.parametrize(\"invalid_thing\", [1, 1.0, {}])\n",
    "def test_only_works_for_strings(invalid_thing):\n",
    "    with pytest.raises(TypeError):\n",
    "        greet(invalid_thing)"
   ]
  },
  {
   "cell_type": "markdown",
   "metadata": {},
   "source": [
    "Again, this creates a file called `hello_world/test_greet_anyone.py` with the code of the cell above."
   ]
  },
  {
   "cell_type": "markdown",
   "metadata": {},
   "source": [
    "## Run the tests"
   ]
  },
  {
   "cell_type": "code",
   "execution_count": 6,
   "metadata": {},
   "outputs": [
    {
     "name": "stdout",
     "output_type": "stream",
     "text": [
      "\u001b[1m============================= test session starts ==============================\u001b[0m\n",
      "platform linux -- Python 3.7.3, pytest-5.1.0, py-1.8.0, pluggy-0.12.0 -- /srv/conda/envs/notebook/bin/python\n",
      "cachedir: .pytest_cache\n",
      "rootdir: /home/jovyan/notebooks\n",
      "collected 12 items                                                             \u001b[0m\n",
      "\n",
      "hello_world/test_greet_anyone.py::test_starts_on_hello[Alice] \u001b[32mPASSED\u001b[0m\u001b[36m     [  8%]\u001b[0m\n",
      "hello_world/test_greet_anyone.py::test_starts_on_hello[Bob] \u001b[32mPASSED\u001b[0m\u001b[36m       [ 16%]\u001b[0m\n",
      "hello_world/test_greet_anyone.py::test_starts_on_hello[World] \u001b[32mPASSED\u001b[0m\u001b[36m     [ 25%]\u001b[0m\n",
      "hello_world/test_greet_anyone.py::test_starts_on_exclamation_mark[Alice] \u001b[32mPASSED\u001b[0m\u001b[36m [ 33%]\u001b[0m\n",
      "hello_world/test_greet_anyone.py::test_starts_on_exclamation_mark[Bob] \u001b[32mPASSED\u001b[0m\u001b[36m [ 41%]\u001b[0m\n",
      "hello_world/test_greet_anyone.py::test_starts_on_exclamation_mark[World] \u001b[32mPASSED\u001b[0m\u001b[36m [ 50%]\u001b[0m\n",
      "hello_world/test_greet_anyone.py::test_adds_space[Alice] \u001b[32mPASSED\u001b[0m\u001b[36m          [ 58%]\u001b[0m\n",
      "hello_world/test_greet_anyone.py::test_adds_space[Bob] \u001b[32mPASSED\u001b[0m\u001b[36m            [ 66%]\u001b[0m\n",
      "hello_world/test_greet_anyone.py::test_adds_space[World] \u001b[32mPASSED\u001b[0m\u001b[36m          [ 75%]\u001b[0m\n",
      "hello_world/test_greet_errors.py::test_only_works_for_strings[1] \u001b[32mPASSED\u001b[0m\u001b[36m  [ 83%]\u001b[0m\n",
      "hello_world/test_greet_errors.py::test_only_works_for_strings[1.0] \u001b[32mPASSED\u001b[0m\u001b[36m [ 91%]\u001b[0m\n",
      "hello_world/test_greet_errors.py::test_only_works_for_strings[invalid_thing2] \u001b[32mPASSED\u001b[0m\u001b[36m [100%]\u001b[0m\n",
      "\n",
      "\u001b[32m\u001b[1m============================== 12 passed in 0.05s ==============================\u001b[0m\n"
     ]
    }
   ],
   "source": [
    "!pytest -v hello_world/"
   ]
  }
 ],
 "metadata": {
  "kernelspec": {
   "display_name": "Python 3",
   "language": "python",
   "name": "python3"
  },
  "language_info": {
   "codemirror_mode": {
    "name": "ipython",
    "version": 3
   },
   "file_extension": ".py",
   "mimetype": "text/x-python",
   "name": "python",
   "nbconvert_exporter": "python",
   "pygments_lexer": "ipython3",
   "version": "3.7.3"
  }
 },
 "nbformat": 4,
 "nbformat_minor": 4
}
