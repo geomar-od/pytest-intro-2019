{
 "cells": [
  {
   "cell_type": "markdown",
   "metadata": {},
   "source": [
    "# A `pytest` Hello World"
   ]
  },
  {
   "cell_type": "markdown",
   "metadata": {},
   "source": [
    "## Create a minimal module\n",
    "\n",
    "We need to create a directory for the module.  Then, we'll use the `%%file` magic of Jupyter to add a file containing a simple function definition."
   ]
  },
  {
   "cell_type": "code",
   "execution_count": 1,
   "metadata": {},
   "outputs": [],
   "source": [
    "!rm -rf hello_world/  # just in case (We want to start over.)\n",
    "!mkdir -p hello_world/"
   ]
  },
  {
   "cell_type": "code",
   "execution_count": 2,
   "metadata": {},
   "outputs": [
    {
     "name": "stdout",
     "output_type": "stream",
     "text": [
      "Writing hello_world/greet_anyone.py\n"
     ]
    }
   ],
   "source": [
    "%%file hello_world/greet_anyone.py\n",
    "def greet(thing):\n",
    "    return \"Hello \" + str(thing) + \"!\""
   ]
  },
  {
   "cell_type": "markdown",
   "metadata": {},
   "source": [
    "This leaves us with a file `hello_world/greet_anyone.py` that contains:"
   ]
  },
  {
   "cell_type": "code",
   "execution_count": 3,
   "metadata": {},
   "outputs": [
    {
     "name": "stdout",
     "output_type": "stream",
     "text": [
      "def greet(thing):\n",
      "    return \"Hello \" + str(thing) + \"!\"\n"
     ]
    }
   ],
   "source": [
    "!cat hello_world/greet_anyone.py  # Will print the contents of the file"
   ]
  },
  {
   "cell_type": "markdown",
   "metadata": {},
   "source": [
    "## Add a minimal \"test suite\"\n",
    "\n",
    "We want to ensure that our `greet_anyone.greet()` returns a string starting on `\"Hello\"`.  To this end, we define a function that `assert`s that whatever `greet()` returns starts with `\"Hello\"`."
   ]
  },
  {
   "cell_type": "code",
   "execution_count": 4,
   "metadata": {},
   "outputs": [
    {
     "name": "stdout",
     "output_type": "stream",
     "text": [
      "Writing hello_world/test_greet_anyone.py\n"
     ]
    }
   ],
   "source": [
    "%%file hello_world/test_greet_anyone.py\n",
    "from greet_anyone import greet\n",
    "\n",
    "def test_starts_on_hello():\n",
    "    assert greet(\"anything\").startswith(\"Hello\")"
   ]
  },
  {
   "cell_type": "markdown",
   "metadata": {},
   "source": [
    "Now, we have another file `hello_world/test_greet_anyone.py` that contains:"
   ]
  },
  {
   "cell_type": "code",
   "execution_count": 5,
   "metadata": {},
   "outputs": [
    {
     "name": "stdout",
     "output_type": "stream",
     "text": [
      "from greet_anyone import greet\n",
      "\n",
      "def test_starts_on_hello():\n",
      "    assert greet(\"anything\").startswith(\"Hello\")\n"
     ]
    }
   ],
   "source": [
    "!cat hello_world/test_greet_anyone.py  # Will print the contents of the file"
   ]
  },
  {
   "cell_type": "markdown",
   "metadata": {},
   "source": [
    "## Run the test suite\n",
    "\n",
    "Now, with Pytest, this is all we need.  Invoking `pytest` and pointing it to our `hello_world` module will have Pytest discover the test and run it.  Let's see:"
   ]
  },
  {
   "cell_type": "code",
   "execution_count": 6,
   "metadata": {},
   "outputs": [
    {
     "name": "stdout",
     "output_type": "stream",
     "text": [
      "\u001b[1m============================= test session starts ==============================\u001b[0m\n",
      "platform linux -- Python 3.7.3, pytest-5.1.0, py-1.8.0, pluggy-0.12.0\n",
      "rootdir: /home/jovyan\n",
      "collected 1 item                                                               \u001b[0m\n",
      "\n",
      "hello_world/test_greet_anyone.py \u001b[32m.\u001b[0m\u001b[36m                                       [100%]\u001b[0m\n",
      "\n",
      "\u001b[32m\u001b[1m============================== 1 passed in 0.03s ===============================\u001b[0m\n"
     ]
    }
   ],
   "source": [
    "!pytest hello_world/"
   ]
  },
  {
   "cell_type": "markdown",
   "metadata": {},
   "source": [
    "This tells us that one test passed.  If we want more detailed output, adding the `-v` (for verbose) flag is recommended:"
   ]
  },
  {
   "cell_type": "code",
   "execution_count": 7,
   "metadata": {},
   "outputs": [
    {
     "name": "stdout",
     "output_type": "stream",
     "text": [
      "\u001b[1m============================= test session starts ==============================\u001b[0m\n",
      "platform linux -- Python 3.7.3, pytest-5.1.0, py-1.8.0, pluggy-0.12.0 -- /srv/conda/envs/notebook/bin/python\n",
      "cachedir: .pytest_cache\n",
      "rootdir: /home/jovyan\n",
      "collected 1 item                                                               \u001b[0m\n",
      "\n",
      "hello_world/test_greet_anyone.py::test_starts_on_hello \u001b[32mPASSED\u001b[0m\u001b[36m            [100%]\u001b[0m\n",
      "\n",
      "\u001b[32m\u001b[1m============================== 1 passed in 0.01s ===============================\u001b[0m\n"
     ]
    }
   ],
   "source": [
    "!pytest -v hello_world/"
   ]
  },
  {
   "cell_type": "markdown",
   "metadata": {},
   "source": [
    "## Add tests\n",
    "\n",
    "There's a few things we might want to check apart from the greetings starting with the correct word.  Let's add them.  (We do so by overwriting the file with the tests.)  Then, let's re-run the tests."
   ]
  },
  {
   "cell_type": "code",
   "execution_count": 8,
   "metadata": {},
   "outputs": [
    {
     "name": "stdout",
     "output_type": "stream",
     "text": [
      "Overwriting hello_world/test_greet_anyone.py\n"
     ]
    }
   ],
   "source": [
    "%%file hello_world/test_greet_anyone.py\n",
    "from greet_anyone import greet\n",
    "\n",
    "def test_starts_on_hello():\n",
    "    assert greet(\"anything\").startswith(\"Hello\")\n",
    "\n",
    "\n",
    "def test_starts_on_exclamation_mark():\n",
    "    assert greet(\"anything\").endswith(\"!\")\n",
    "    \n",
    "\n",
    "def test_adds_space():\n",
    "    assert \" \" in greet(\"anything\")"
   ]
  },
  {
   "cell_type": "code",
   "execution_count": 9,
   "metadata": {},
   "outputs": [
    {
     "name": "stdout",
     "output_type": "stream",
     "text": [
      "\u001b[1m============================= test session starts ==============================\u001b[0m\n",
      "platform linux -- Python 3.7.3, pytest-5.1.0, py-1.8.0, pluggy-0.12.0 -- /srv/conda/envs/notebook/bin/python\n",
      "cachedir: .pytest_cache\n",
      "rootdir: /home/jovyan\n",
      "collected 3 items                                                              \u001b[0m\n",
      "\n",
      "hello_world/test_greet_anyone.py::test_starts_on_hello \u001b[32mPASSED\u001b[0m\u001b[36m            [ 33%]\u001b[0m\n",
      "hello_world/test_greet_anyone.py::test_starts_on_exclamation_mark \u001b[32mPASSED\u001b[0m\u001b[36m [ 66%]\u001b[0m\n",
      "hello_world/test_greet_anyone.py::test_adds_space \u001b[32mPASSED\u001b[0m\u001b[36m                 [100%]\u001b[0m\n",
      "\n",
      "\u001b[32m\u001b[1m============================== 3 passed in 0.03s ===============================\u001b[0m\n"
     ]
    }
   ],
   "source": [
    "!pytest -v hello_world/"
   ]
  }
 ],
 "metadata": {
  "kernelspec": {
   "display_name": "Python 3",
   "language": "python",
   "name": "python3"
  },
  "language_info": {
   "codemirror_mode": {
    "name": "ipython",
    "version": 3
   },
   "file_extension": ".py",
   "mimetype": "text/x-python",
   "name": "python",
   "nbconvert_exporter": "python",
   "pygments_lexer": "ipython3",
   "version": "3.7.3"
  }
 },
 "nbformat": 4,
 "nbformat_minor": 4
}
